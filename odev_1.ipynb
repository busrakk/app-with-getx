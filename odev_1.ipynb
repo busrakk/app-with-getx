{
  "nbformat": 4,
  "nbformat_minor": 0,
  "metadata": {
    "colab": {
      "provenance": [],
      "authorship_tag": "ABX9TyPKjIb+5GkfrrgH0mQDxUdv",
      "include_colab_link": true
    },
    "kernelspec": {
      "name": "python3",
      "display_name": "Python 3"
    },
    "language_info": {
      "name": "python"
    }
  },
  "cells": [
    {
      "cell_type": "markdown",
      "metadata": {
        "id": "view-in-github",
        "colab_type": "text"
      },
      "source": [
        "<a href=\"https://colab.research.google.com/github/busrakk/app-with-getx/blob/main/odev_1.ipynb\" target=\"_parent\"><img src=\"https://colab.research.google.com/assets/colab-badge.svg\" alt=\"Open In Colab\"/></a>"
      ]
    },
    {
      "cell_type": "code",
      "execution_count": 4,
      "metadata": {
        "colab": {
          "base_uri": "https://localhost:8080/"
        },
        "id": "kWeXUb3j0-i1",
        "outputId": "dbb8c9f2-9b78-4c58-8710-7ea0a02bb4ca"
      },
      "outputs": [
        {
          "output_type": "stream",
          "name": "stdout",
          "text": [
            "değer gir: -2\n",
            "Değer Negatif\n"
          ]
        }
      ],
      "source": [
        "#1- girilen sayının pozitif, negatif veya sıfır olduğunu yazan koşul\n",
        "deger = int(input('değer giriniz: '))\n",
        "if(deger > 0):\n",
        "  print(\"Değer Pozitif\")\n",
        "elif(deger < 0):\n",
        "  print(\"Değer Negatif\")\n",
        "else:\n",
        "  print(\"Değer Sıfır\")"
      ]
    },
    {
      "cell_type": "code",
      "source": [
        "#2- girilen sayının tek mi çift mi olduğunu yazan koşul\n",
        "deger = int(input('değer giriniz: '))\n",
        "if(deger % 2 == 0):\n",
        "  print(\"Değer Çift\")\n",
        "else:\n",
        "  print(\"Değer Tek\")"
      ],
      "metadata": {
        "colab": {
          "base_uri": "https://localhost:8080/"
        },
        "id": "iR_PkCdc3ii9",
        "outputId": "c82b092c-2475-4a0d-f70a-4cffec77a9e3"
      },
      "execution_count": 7,
      "outputs": [
        {
          "output_type": "stream",
          "name": "stdout",
          "text": [
            "değer giriniz: 0\n",
            "Değer Çift\n"
          ]
        }
      ]
    },
    {
      "cell_type": "code",
      "source": [
        "#3- Girilen nota göre harf aralığını yazan koşul (80-100 A, 60-80 B vs.)\n",
        "note = int(input('Not giriniz:'))\n",
        "if(note<=100 and note>=80):\n",
        "  print(\"A\")\n",
        "elif(note<80 and note>=60):\n",
        "  print(\"B\")\n",
        "elif(note<60 and note>=40):\n",
        "  print(\"C\")\n",
        "elif(note<40 and note>=20):\n",
        "  print(\"D\")\n",
        "elif(note<20 and note>=0):\n",
        "  print(\"F\")\n",
        "else:\n",
        "  print(\"Geçerli not giriniz\")"
      ],
      "metadata": {
        "colab": {
          "base_uri": "https://localhost:8080/"
        },
        "id": "5QCCwwG1DJod",
        "outputId": "69332821-52eb-443e-c671-c717ae62d19f"
      },
      "execution_count": 18,
      "outputs": [
        {
          "output_type": "stream",
          "name": "stdout",
          "text": [
            "Not giriniz:14\n",
            "F\n"
          ]
        }
      ]
    },
    {
      "cell_type": "code",
      "source": [
        "#4- Girilen ismin karakter sayısı 5den büyükse \"Girilen ismin karakter sayısı 5den büyükse \"uzun bir isminiz var\" değilse ismini yazsın\" değilse ismini yazsın\n",
        "isim = input(\"Bir karakter giriniz: \")\n",
        "\n",
        "if len(isim) > 5:\n",
        "    print(\"Uzun bir isminiz var\")\n",
        "else:\n",
        "    print(isim)"
      ],
      "metadata": {
        "colab": {
          "base_uri": "https://localhost:8080/"
        },
        "id": "jtmmWykKDsSW",
        "outputId": "3c5b1385-23b4-44fa-d572-e33ada682eaf"
      },
      "execution_count": 27,
      "outputs": [
        {
          "output_type": "stream",
          "name": "stdout",
          "text": [
            "Bir karakter giriniz: büşra\n",
            "büşra\n"
          ]
        }
      ]
    },
    {
      "cell_type": "code",
      "source": [
        "#5- girilen sayının asal olup olmadığını bulan kod dizisi. (for ve while)\n",
        "sayi = int(input(\"Bir sayı giriniz:\"))\n",
        "\n",
        "if sayi < 2:\n",
        "    print(\"Sayı asal değildir.\")\n",
        "else:\n",
        "  i = 2\n",
        "  while i <= sayi:\n",
        "    if sayi % i == 0:\n",
        "      print(\"Sayı asal değildir\")\n",
        "      break\n",
        "    i+=1\n",
        "  else:\n",
        "    print(\"Sayı asaldır\")"
      ],
      "metadata": {
        "colab": {
          "base_uri": "https://localhost:8080/"
        },
        "id": "gwTPf1ifGKYE",
        "outputId": "cf5fd253-9941-453d-e5c5-bdd15f230de8"
      },
      "execution_count": 46,
      "outputs": [
        {
          "output_type": "stream",
          "name": "stdout",
          "text": [
            "Bir sayı giriniz:87\n",
            "Sayı asal değildir\n"
          ]
        }
      ]
    },
    {
      "cell_type": "code",
      "source": [
        "#6- notlar=[45,85,75,50] içinde 75 değerinin indisini yazdıran döngü\n",
        "notlar = [45, 85, 75, 50]\n",
        "\n",
        "for i in range(len(notlar)):\n",
        "    if notlar[i] == 75:\n",
        "        print(f\"75'in indeksi: {i}\")\n",
        "        break"
      ],
      "metadata": {
        "colab": {
          "base_uri": "https://localhost:8080/"
        },
        "id": "vhfJiygbJ92i",
        "outputId": "eb0be52b-b21d-4f2c-94aa-f73405633b32"
      },
      "execution_count": 47,
      "outputs": [
        {
          "output_type": "stream",
          "name": "stdout",
          "text": [
            "75'in indeksi: 2\n"
          ]
        }
      ]
    },
    {
      "cell_type": "code",
      "source": [
        "#7- girilen sayının faktöriyelini alalım. (for ve while)\n",
        "sayi = int(input( \"Bir sayi giriniz: \"))\n",
        "fakt = 1\n",
        "i = 1\n",
        "while i <= sayi:\n",
        "  fakt *= i\n",
        "  i+=1\n",
        "\n",
        "print(fakt)"
      ],
      "metadata": {
        "colab": {
          "base_uri": "https://localhost:8080/"
        },
        "id": "FxJlyLywK2Cb",
        "outputId": "1da9fa3f-ff42-4a91-c08a-e29d662e48c7"
      },
      "execution_count": 53,
      "outputs": [
        {
          "output_type": "stream",
          "name": "stdout",
          "text": [
            "Bir sayi giriniz: 5\n",
            "120\n"
          ]
        }
      ]
    },
    {
      "cell_type": "code",
      "source": [
        "#8- Kullanıcıdan pozitif bir sayı bekleyen, pozitifi de gördüğü an bastıran,\n",
        "#negatif sayı girildikçe bir daha soran yapı kuralım. (for döngüsü ile)\n",
        "sayi = int(input(\"Sayi giriniz:\"))\n",
        "if(sayi>=0):\n",
        "  print(sayi)\n",
        "else:\n",
        "  for _ in range(100):\n",
        "    sayi = int(input(\"Sayi giriniz:\"))\n",
        "    if(sayi>=0):\n",
        "      print(sayi)\n",
        "      break"
      ],
      "metadata": {
        "colab": {
          "base_uri": "https://localhost:8080/"
        },
        "id": "1BzYMY3JMBk-",
        "outputId": "2f73ddb7-0432-4ff3-e74b-70fdf8e636a4"
      },
      "execution_count": 57,
      "outputs": [
        {
          "output_type": "stream",
          "name": "stdout",
          "text": [
            "Sayi giriniz:-1\n",
            "Sayi giriniz:-6\n",
            "Sayi giriniz:-8\n",
            "Sayi giriniz:-9\n",
            "Sayi giriniz:-5\n",
            "Sayi giriniz:-7\n",
            "Sayi giriniz:8\n",
            "8\n"
          ]
        }
      ]
    },
    {
      "cell_type": "code",
      "source": [
        "#9- fonksiyon ile girilen sayının asal olup olmadığını bulan kod dizisi. (for ve while)\n",
        "def asal_mi(sayi):\n",
        "    if sayi < 2:\n",
        "        return False\n",
        "\n",
        "    i = 2\n",
        "    while i * i <= sayi:\n",
        "        if sayi % i == 0:\n",
        "            return False\n",
        "        i += 1\n",
        "\n",
        "    return True\n",
        "\n",
        "# Kullanıcıdan giriş almak\n",
        "sayi = int(input(\"Bir sayı giriniz: \"))\n",
        "\n",
        "if asal_mi(sayi):\n",
        "    print(f\"{sayi} sayısı asal bir sayıdır.\")\n",
        "else:\n",
        "    print(f\"{sayi} sayısı asal bir sayı değildir.\")\n"
      ],
      "metadata": {
        "colab": {
          "base_uri": "https://localhost:8080/"
        },
        "id": "XVr4k6PDNJiw",
        "outputId": "a2678d10-af1b-4265-9e96-1d481598d20b"
      },
      "execution_count": 66,
      "outputs": [
        {
          "output_type": "stream",
          "name": "stdout",
          "text": [
            "Bir sayı giriniz: 58\n",
            "58 sayısı asal bir sayı değildir.\n"
          ]
        }
      ]
    },
    {
      "cell_type": "code",
      "source": [
        "#10- fonksiyon ile girilen sayının faktöriyelini alalım. (for ve while)\n",
        "\n",
        "def fakt_mi(sayi):\n",
        "\n",
        "  fakt = 1\n",
        "  i = 1\n",
        "  while i <= sayi:\n",
        "    fakt *= i\n",
        "    i+=1\n",
        "  return fakt\n",
        "\n",
        "sayi = int(input( \"Bir sayi giriniz: \"))\n",
        "print(f\"{sayi} sayısının faktöriyel değeri: {fakt_mi(sayi)}\")"
      ],
      "metadata": {
        "colab": {
          "base_uri": "https://localhost:8080/"
        },
        "id": "pgFNidJNOX00",
        "outputId": "ecc617de-c1e1-4abe-8ca7-053d66d5722e"
      },
      "execution_count": 81,
      "outputs": [
        {
          "output_type": "stream",
          "name": "stdout",
          "text": [
            "Bir sayi giriniz: 9\n",
            "9 sayısının faktöriyel değeri: 362880\n"
          ]
        }
      ]
    }
  ]
}